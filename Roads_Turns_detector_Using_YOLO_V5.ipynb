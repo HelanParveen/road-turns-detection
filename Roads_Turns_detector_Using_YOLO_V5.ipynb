#!/usr/bin/env python
# coding: utf-8

# In[ ]:


#clone YOLOv5 and
get_ipython().system('git clone https://github.com/ultralytics/yolov5  # clone repo')
get_ipython().run_line_magic('cd', 'yolov5')


# In[ ]:


get_ipython().run_line_magic('pip', 'install -qr requirements.txt # install dependencies')
get_ipython().run_line_magic('pip', 'install -q roboflow')


# In[ ]:


# Import necessary libraries
import torch
import os
from IPython.display import Image, clear_output  # to display images


# In[ ]:


#!pip install roboflow

from roboflow import Roboflow
rf = Roboflow(api_key="081E2h5x03wwTzg1Omep")
project = rf.workspace().project("road-turn-detections")
dataset = project.version(2).download("yolov5")


# In[ ]:


# Train the YOLOv5 model
get_ipython().system('python train.py --img 640 --epochs 120 --data {dataset.location}/data.yaml --weights yolov5s.pt')


# In[ ]:


get_ipython().run_line_magic('load_ext', 'tensorboard')
get_ipython().run_line_magic('tensorboard', '--logdir runs')


# In[ ]:


# Run object detection on a validation dataset and save the detected images
get_ipython().system('python detect.py --weights runs/train/exp/weights/best.pt --img 640 --conf 0.15 --source {dataset.location}/valid/images --save-txt --save-conf --save-crop')



# In[ ]:


# Create a directory to store the detected images
output_dir = "/content/yolov5/detected_images"
os.makedirs(output_dir, exist_ok=True)


# In[ ]:


# Move the detected images to the output directory
get_ipython().system('mv runs/detect/exp/* {output_dir}')


# In[ ]:


# Display one of the detected images
display(Image(filename=f'{output_dir}/IMG_8740_JPG.rf.71206626f99b89bd95b83ec52982e87e.jpg', width=600))


# In[ ]:




